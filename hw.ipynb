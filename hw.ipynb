{
 "cells": [
  {
   "cell_type": "markdown",
   "metadata": {
    "id": "bVbHQbDDjw9i"
   },
   "source": [
    "## ДЗ 1 (ОБЯЗАТЕЛЬНОЕ): Анализ температурных данных и мониторинг текущей температуры через OpenWeatherMap API\n",
    "\n",
    "**Описание задания:**  \n",
    "Вы аналитик в компании, занимающейся изучением климатических изменений и мониторингом температур в разных городах. Вам нужно провести анализ исторических данных о температуре для выявления сезонных закономерностей и аномалий. Также необходимо подключить API OpenWeatherMap для получения текущей температуры в выбранных городах и сравнить её с историческими данными.\n",
    "\n",
    "\n",
    "### Цели задания:\n",
    "1. Провести **анализ временных рядов**, включая:\n",
    "   - Вычисление скользящего среднего и стандартного отклонения для сглаживания температурных колебаний.\n",
    "   - Определение аномалий на основе отклонений температуры от $ \\text{скользящее среднее} \\pm 2\\sigma $.\n",
    "   - Построение долгосрочных трендов изменения температуры.\n",
    "   - Любые дополнительные исследования будут вам в плюс.\n",
    "\n",
    "2. Осуществить **мониторинг текущей температуры**:\n",
    "   - Получить текущую температуру через OpenWeatherMap API.\n",
    "   - Сравнить её с историческим нормальным диапазоном для текущего сезона.\n",
    "\n",
    "3. Разработать **интерактивное приложение**:\n",
    "   - Дать пользователю возможность выбрать город.\n",
    "   - Отобразить результаты анализа температур, включая временные ряды, сезонные профили и аномалии.\n",
    "   - Провести анализ текущей температуры в контексте исторических данных.\n",
    "\n",
    "\n",
    "### Описание данных\n",
    "Исторические данные о температуре содержатся в файле `temperature_data.csv`, включают:\n",
    "  - `city`: Название города.\n",
    "  - `timestamp`: Дата (с шагом в 1 день).\n",
    "  - `temperature`: Среднесуточная температура (в °C).\n",
    "  - `season`: Сезон года (зима, весна, лето, осень).\n",
    "\n",
    "Код для генерации файла вы найдете ниже.\n",
    "\n",
    "### Этапы выполнения\n",
    "\n",
    "1. **Анализ исторических данных**:\n",
    "   - Вычислить **скользящее среднее** температуры с окном в 30 дней для сглаживания краткосрочных колебаний.\n",
    "   - Рассчитать среднюю температуру и стандартное отклонение для каждого сезона в каждом городе.\n",
    "   - Выявить аномалии, где температура выходит за пределы $ \\text{среднее} \\pm 2\\sigma $.\n",
    "   - Попробуйте распараллелить проведение этого анализа. Сравните скорость выполнения анализа с распараллеливанием и без него.\n",
    "\n",
    "2. **Мониторинг текущей температуры**:\n",
    "   - Подключить OpenWeatherMap API для получения текущей температуры города. Для получения API Key (бесплатно) надо зарегистрироваться на сайте. Обратите внимание, что API Key может активироваться только через 2-3 часа, это нормально. Посему получите ключ заранее.\n",
    "   - Получить текущую температуру для выбранного города через OpenWeatherMap API.\n",
    "   - Определить, является ли текущая температура нормальной, исходя из исторических данных для текущего сезона.\n",
    "   - Данные на самом деле не совсем реальные (сюрпрайз). Поэтому на момент эксперимента погода в Берлине, Каире и Дубае была в рамках нормы, а в Пекине и Москве аномальная. Протестируйте свое решение для разных городов.\n",
    "   - Попробуйте для получения текущей температуры использовать синхронные и асинхронные методы. Что здесь лучше использовать?\n",
    "\n",
    "3. **Создание приложения на Streamlit**:\n",
    "   - Добавить интерфейс для загрузки файла с историческими данными.\n",
    "   - Добавить интерфейс для выбора города (из выпадающего списка).\n",
    "   - Добавить форму для ввода API-ключа OpenWeatherMap. Когда он не введен, данные для текущей погоды не показываются. Если ключ некорректный, выведите на экран ошибку (должно приходить `{\"cod\":401, \"message\": \"Invalid API key. Please see https://openweathermap.org/faq#error401 for more info.\"}`).\n",
    "   - Отобразить:\n",
    "     - Описательную статистику по историческим данным для города, можно добавить визуализации.\n",
    "     - Временной ряд температур с выделением аномалий (например, точками другого цвета).\n",
    "     - Сезонные профили с указанием среднего и стандартного отклонения.\n",
    "   - Вывести текущую температуру через API и указать, нормальна ли она для сезона.\n",
    "\n",
    "### Критерии оценивания\n",
    "\n",
    "- Корректное проведение анализа данных – 1 балл.\n",
    "- Исследование распараллеливания анализа – 1 балл.\n",
    "- Корректный поиск аномалий – 1 балл.\n",
    "- Подключение к API и корректность выполнения запроса – 1 балл.\n",
    "- Проведение эксперимента с синхронным и асинхронным способом запроса к API – 1 балл.\n",
    "- Создание интерфейса приложения streamlit в соответствии с описанием – 3 балла.\n",
    "- Корректное отображение графиков и статистик, а также сезонных профилей – 1 балл.\n",
    "- Корректный вывод текущей температуры в выбранном городе и проведение проверки на ее аномальность – 1 балл.\n",
    "- Любая дополнительная функциональность приветствуется и оценивается бонусными баллами (не более 2 в сумме) на усмотрение проверяющего.\n",
    "\n",
    "### Формат сдачи домашнего задания\n",
    "\n",
    "Решение нужно развернуть в Streamlit Cloud (бесплатно)\n",
    "\n",
    "*   Создаем новый репозиторий на GitHub.  \n",
    "*   Загружаем проект.\n",
    "*   Создаем аккаунт в [Streamlit Cloud](https://streamlit.io/cloud).\n",
    "*   Авторизуемся в Streamlit Cloud.\n",
    "*   Создаем новое приложение в Streamlit Cloud и подключаем GitHub-репозиторий.\n",
    "*   Deploy!\n",
    "\n",
    "Сдать в форму необходимо:\n",
    "1. Ссылку на развернутое в Streamlit Cloud приложение.\n",
    "2. Ссылку на код. Все выводы про, например, использование параллельности/асинхронности опишите в комментариях.\n",
    "\n",
    "Не забудьте удалить ключ API и иную чувствительную информацию.\n",
    "\n",
    "### Полезные ссылки\n",
    "*   [Оформление задачи Титаник на Streamlit](https://github.com/evgpat/streamlit_demo)\n",
    "*   [Документация Streamlit](https://docs.streamlit.io/)\n",
    "*   [Блог о Streamlit](https://blog.streamlit.io/)"
   ]
  },
  {
   "cell_type": "code",
   "metadata": {
    "id": "SsrwTMhRj6dK",
    "ExecuteTime": {
     "end_time": "2024-12-24T11:57:07.340098Z",
     "start_time": "2024-12-24T11:57:07.020848Z"
    }
   },
   "source": [
    "import pandas as pd\n",
    "import numpy as np\n",
    "\n",
    "# Реальные средние температуры (примерные данные) для городов по сезонам\n",
    "seasonal_temperatures = {\n",
    "    \"New York\": {\"winter\": 0, \"spring\": 10, \"summer\": 25, \"autumn\": 15},\n",
    "    \"London\": {\"winter\": 5, \"spring\": 11, \"summer\": 18, \"autumn\": 12},\n",
    "    \"Paris\": {\"winter\": 4, \"spring\": 12, \"summer\": 20, \"autumn\": 13},\n",
    "    \"Tokyo\": {\"winter\": 6, \"spring\": 15, \"summer\": 27, \"autumn\": 18},\n",
    "    \"Moscow\": {\"winter\": -10, \"spring\": 5, \"summer\": 18, \"autumn\": 8},\n",
    "    \"Sydney\": {\"winter\": 12, \"spring\": 18, \"summer\": 25, \"autumn\": 20},\n",
    "    \"Berlin\": {\"winter\": 0, \"spring\": 10, \"summer\": 20, \"autumn\": 11},\n",
    "    \"Beijing\": {\"winter\": -2, \"spring\": 13, \"summer\": 27, \"autumn\": 16},\n",
    "    \"Rio de Janeiro\": {\"winter\": 20, \"spring\": 25, \"summer\": 30, \"autumn\": 25},\n",
    "    \"Dubai\": {\"winter\": 20, \"spring\": 30, \"summer\": 40, \"autumn\": 30},\n",
    "    \"Los Angeles\": {\"winter\": 15, \"spring\": 18, \"summer\": 25, \"autumn\": 20},\n",
    "    \"Singapore\": {\"winter\": 27, \"spring\": 28, \"summer\": 28, \"autumn\": 27},\n",
    "    \"Mumbai\": {\"winter\": 25, \"spring\": 30, \"summer\": 35, \"autumn\": 30},\n",
    "    \"Cairo\": {\"winter\": 15, \"spring\": 25, \"summer\": 35, \"autumn\": 25},\n",
    "    \"Mexico City\": {\"winter\": 12, \"spring\": 18, \"summer\": 20, \"autumn\": 15},\n",
    "}\n",
    "\n",
    "# Сопоставление месяцев с сезонами\n",
    "month_to_season = {12: \"winter\", 1: \"winter\", 2: \"winter\",\n",
    "                   3: \"spring\", 4: \"spring\", 5: \"spring\",\n",
    "                   6: \"summer\", 7: \"summer\", 8: \"summer\",\n",
    "                   9: \"autumn\", 10: \"autumn\", 11: \"autumn\"}\n",
    "\n",
    "\n",
    "# Генерация данных о температуре\n",
    "def generate_realistic_temperature_data(cities, num_years=10):\n",
    "    dates = pd.date_range(start=\"2010-01-01\", periods=365 * num_years, freq=\"D\")\n",
    "    data = []\n",
    "\n",
    "    for city in cities:\n",
    "        for date in dates:\n",
    "            season = month_to_season[date.month]\n",
    "            mean_temp = seasonal_temperatures[city][season]\n",
    "            # Добавляем случайное отклонение\n",
    "            temperature = np.random.normal(loc=mean_temp, scale=5)\n",
    "            data.append({\"city\": city, \"timestamp\": date, \"temperature\": temperature})\n",
    "\n",
    "    df = pd.DataFrame(data)\n",
    "    df['season'] = df['timestamp'].dt.month.map(lambda x: month_to_season[x])\n",
    "    return df\n",
    "\n",
    "\n",
    "# Генерация данных\n",
    "data = generate_realistic_temperature_data(list(seasonal_temperatures.keys()))\n",
    "data.to_csv('temperature_data.csv', index=False)\n"
   ],
   "outputs": [],
   "execution_count": 130
  },
  {
   "cell_type": "markdown",
   "metadata": {},
   "source": [
    "### 1. Анализ исторических данных"
   ]
  },
  {
   "metadata": {
    "ExecuteTime": {
     "end_time": "2024-12-24T11:57:10.070360Z",
     "start_time": "2024-12-24T11:57:10.041881Z"
    }
   },
   "cell_type": "code",
   "source": "df = pd.read_csv('temperature_data.csv')",
   "outputs": [],
   "execution_count": 131
  },
  {
   "metadata": {
    "ExecuteTime": {
     "end_time": "2024-12-24T11:57:13.855936Z",
     "start_time": "2024-12-24T11:57:13.839756Z"
    }
   },
   "cell_type": "code",
   "source": "df.info()",
   "outputs": [
    {
     "name": "stdout",
     "output_type": "stream",
     "text": [
      "<class 'pandas.core.frame.DataFrame'>\n",
      "RangeIndex: 54750 entries, 0 to 54749\n",
      "Data columns (total 4 columns):\n",
      " #   Column       Non-Null Count  Dtype  \n",
      "---  ------       --------------  -----  \n",
      " 0   city         54750 non-null  object \n",
      " 1   timestamp    54750 non-null  object \n",
      " 2   temperature  54750 non-null  float64\n",
      " 3   season       54750 non-null  object \n",
      "dtypes: float64(1), object(3)\n",
      "memory usage: 1.7+ MB\n"
     ]
    }
   ],
   "execution_count": 132
  },
  {
   "metadata": {
    "ExecuteTime": {
     "end_time": "2024-12-24T11:57:18.057708Z",
     "start_time": "2024-12-24T11:57:18.050486Z"
    }
   },
   "cell_type": "code",
   "source": "df.head()",
   "outputs": [
    {
     "data": {
      "text/plain": [
       "       city   timestamp  temperature  season\n",
       "0  New York  2010-01-01    -0.800916  winter\n",
       "1  New York  2010-01-02     3.130357  winter\n",
       "2  New York  2010-01-03     2.801940  winter\n",
       "3  New York  2010-01-04    -3.846097  winter\n",
       "4  New York  2010-01-05    -1.614275  winter"
      ],
      "text/html": [
       "<div>\n",
       "<style scoped>\n",
       "    .dataframe tbody tr th:only-of-type {\n",
       "        vertical-align: middle;\n",
       "    }\n",
       "\n",
       "    .dataframe tbody tr th {\n",
       "        vertical-align: top;\n",
       "    }\n",
       "\n",
       "    .dataframe thead th {\n",
       "        text-align: right;\n",
       "    }\n",
       "</style>\n",
       "<table border=\"1\" class=\"dataframe\">\n",
       "  <thead>\n",
       "    <tr style=\"text-align: right;\">\n",
       "      <th></th>\n",
       "      <th>city</th>\n",
       "      <th>timestamp</th>\n",
       "      <th>temperature</th>\n",
       "      <th>season</th>\n",
       "    </tr>\n",
       "  </thead>\n",
       "  <tbody>\n",
       "    <tr>\n",
       "      <th>0</th>\n",
       "      <td>New York</td>\n",
       "      <td>2010-01-01</td>\n",
       "      <td>-0.800916</td>\n",
       "      <td>winter</td>\n",
       "    </tr>\n",
       "    <tr>\n",
       "      <th>1</th>\n",
       "      <td>New York</td>\n",
       "      <td>2010-01-02</td>\n",
       "      <td>3.130357</td>\n",
       "      <td>winter</td>\n",
       "    </tr>\n",
       "    <tr>\n",
       "      <th>2</th>\n",
       "      <td>New York</td>\n",
       "      <td>2010-01-03</td>\n",
       "      <td>2.801940</td>\n",
       "      <td>winter</td>\n",
       "    </tr>\n",
       "    <tr>\n",
       "      <th>3</th>\n",
       "      <td>New York</td>\n",
       "      <td>2010-01-04</td>\n",
       "      <td>-3.846097</td>\n",
       "      <td>winter</td>\n",
       "    </tr>\n",
       "    <tr>\n",
       "      <th>4</th>\n",
       "      <td>New York</td>\n",
       "      <td>2010-01-05</td>\n",
       "      <td>-1.614275</td>\n",
       "      <td>winter</td>\n",
       "    </tr>\n",
       "  </tbody>\n",
       "</table>\n",
       "</div>"
      ]
     },
     "execution_count": 133,
     "metadata": {},
     "output_type": "execute_result"
    }
   ],
   "execution_count": 133
  },
  {
   "cell_type": "markdown",
   "metadata": {},
   "source": [
    "#### Вычисление скользящего среднего температуры с окном в 30 дней для сглаживания краткосрочных колебаний"
   ]
  },
  {
   "metadata": {
    "ExecuteTime": {
     "end_time": "2024-12-24T11:57:20.374505Z",
     "start_time": "2024-12-24T11:57:20.360367Z"
    }
   },
   "cell_type": "code",
   "source": [
    "import pandas as pd\n",
    "import time\n",
    "\n",
    "df['timestamp'] = pd.to_datetime(df['timestamp'])\n",
    "df.set_index('timestamp', inplace=True)\n",
    "\n",
    "\n",
    "def analyze_city(city_data):\n",
    "    city_data['rolling_mean'] = city_data['temperature'].rolling(window=30, min_periods=1).mean()\n",
    "    city_data['rolling_std'] = city_data['temperature'].rolling(window=30, min_periods=1).std()\n",
    "\n",
    "    seasonal_stats = city_data.groupby('season')['temperature'].agg(['mean', 'std']).reset_index()\n",
    "    city_data = city_data.merge(seasonal_stats, on='season', suffixes=('', '_season'))\n",
    "\n",
    "    city_data['is_anomaly'] = (city_data['temperature'] > city_data['rolling_mean'] + 2 * city_data['rolling_std']) | \\\n",
    "                              (city_data['temperature'] < city_data['rolling_mean'] - 2 * city_data['rolling_std'])\n",
    "    return city_data\n"
   ],
   "outputs": [],
   "execution_count": 134
  },
  {
   "metadata": {
    "ExecuteTime": {
     "end_time": "2024-12-24T11:57:24.919228Z",
     "start_time": "2024-12-24T11:57:24.851769Z"
    }
   },
   "cell_type": "code",
   "source": [
    "# Последовательный анализ данных\n",
    "start_time = time.time()\n",
    "results_non_parallel = [analyze_city(group) for _, group in df.copy().groupby('city')]\n",
    "non_parallel_time = time.time() - start_time\n",
    "\n",
    "print(\"Non-parallel time:\", non_parallel_time)\n",
    "not_parallel_results = pd.concat(results_non_parallel)\n",
    "print(not_parallel_results[not_parallel_results['is_anomaly'] == True].shape)\n",
    "not_parallel_results[not_parallel_results['is_anomaly'] == True].head()"
   ],
   "outputs": [
    {
     "name": "stdout",
     "output_type": "stream",
     "text": [
      "Non-parallel time: 0.05740499496459961\n",
      "(2771, 8)\n"
     ]
    },
    {
     "data": {
      "text/plain": [
       "       city  temperature  season  rolling_mean  rolling_std      mean  \\\n",
       "9   Beijing    10.440310  winter     -2.424945     5.568372  -2.31441   \n",
       "59  Beijing    14.621026  spring     -1.755015     5.752854  12.98483   \n",
       "62  Beijing    17.587433  spring     -0.528129     6.526667  12.98483   \n",
       "63  Beijing    17.714677  spring      0.166320     7.303624  12.98483   \n",
       "70  Beijing    28.256653  spring      3.431789     9.296064  12.98483   \n",
       "\n",
       "         std  is_anomaly  \n",
       "9   4.913169        True  \n",
       "59  4.910381        True  \n",
       "62  4.910381        True  \n",
       "63  4.910381        True  \n",
       "70  4.910381        True  "
      ],
      "text/html": [
       "<div>\n",
       "<style scoped>\n",
       "    .dataframe tbody tr th:only-of-type {\n",
       "        vertical-align: middle;\n",
       "    }\n",
       "\n",
       "    .dataframe tbody tr th {\n",
       "        vertical-align: top;\n",
       "    }\n",
       "\n",
       "    .dataframe thead th {\n",
       "        text-align: right;\n",
       "    }\n",
       "</style>\n",
       "<table border=\"1\" class=\"dataframe\">\n",
       "  <thead>\n",
       "    <tr style=\"text-align: right;\">\n",
       "      <th></th>\n",
       "      <th>city</th>\n",
       "      <th>temperature</th>\n",
       "      <th>season</th>\n",
       "      <th>rolling_mean</th>\n",
       "      <th>rolling_std</th>\n",
       "      <th>mean</th>\n",
       "      <th>std</th>\n",
       "      <th>is_anomaly</th>\n",
       "    </tr>\n",
       "  </thead>\n",
       "  <tbody>\n",
       "    <tr>\n",
       "      <th>9</th>\n",
       "      <td>Beijing</td>\n",
       "      <td>10.440310</td>\n",
       "      <td>winter</td>\n",
       "      <td>-2.424945</td>\n",
       "      <td>5.568372</td>\n",
       "      <td>-2.31441</td>\n",
       "      <td>4.913169</td>\n",
       "      <td>True</td>\n",
       "    </tr>\n",
       "    <tr>\n",
       "      <th>59</th>\n",
       "      <td>Beijing</td>\n",
       "      <td>14.621026</td>\n",
       "      <td>spring</td>\n",
       "      <td>-1.755015</td>\n",
       "      <td>5.752854</td>\n",
       "      <td>12.98483</td>\n",
       "      <td>4.910381</td>\n",
       "      <td>True</td>\n",
       "    </tr>\n",
       "    <tr>\n",
       "      <th>62</th>\n",
       "      <td>Beijing</td>\n",
       "      <td>17.587433</td>\n",
       "      <td>spring</td>\n",
       "      <td>-0.528129</td>\n",
       "      <td>6.526667</td>\n",
       "      <td>12.98483</td>\n",
       "      <td>4.910381</td>\n",
       "      <td>True</td>\n",
       "    </tr>\n",
       "    <tr>\n",
       "      <th>63</th>\n",
       "      <td>Beijing</td>\n",
       "      <td>17.714677</td>\n",
       "      <td>spring</td>\n",
       "      <td>0.166320</td>\n",
       "      <td>7.303624</td>\n",
       "      <td>12.98483</td>\n",
       "      <td>4.910381</td>\n",
       "      <td>True</td>\n",
       "    </tr>\n",
       "    <tr>\n",
       "      <th>70</th>\n",
       "      <td>Beijing</td>\n",
       "      <td>28.256653</td>\n",
       "      <td>spring</td>\n",
       "      <td>3.431789</td>\n",
       "      <td>9.296064</td>\n",
       "      <td>12.98483</td>\n",
       "      <td>4.910381</td>\n",
       "      <td>True</td>\n",
       "    </tr>\n",
       "  </tbody>\n",
       "</table>\n",
       "</div>"
      ]
     },
     "execution_count": 135,
     "metadata": {},
     "output_type": "execute_result"
    }
   ],
   "execution_count": 135
  },
  {
   "metadata": {
    "ExecuteTime": {
     "end_time": "2024-12-24T11:57:27.606666Z",
     "start_time": "2024-12-24T11:57:27.278010Z"
    }
   },
   "cell_type": "code",
   "source": [
    "import multiprocess as mp\n",
    "\n",
    "# Параллельный анализ данных\n",
    "city_data = [group for _, group in df.copy().groupby('city')]\n",
    "start_time = time.time()\n",
    "with mp.Pool() as pool:\n",
    "    results_parallel = pool.map(analyze_city, city_data)\n",
    "parallel_time = time.time() - start_time\n",
    "\n",
    "print(\"Parallel time:\", parallel_time)\n",
    "parallel_results = pd.concat(results_parallel)\n",
    "print(parallel_results[parallel_results['is_anomaly'] == True].shape)\n",
    "parallel_results[parallel_results['is_anomaly'] == True].head()"
   ],
   "outputs": [
    {
     "name": "stdout",
     "output_type": "stream",
     "text": [
      "Parallel time: 0.3067808151245117\n",
      "(2771, 8)\n"
     ]
    },
    {
     "data": {
      "text/plain": [
       "       city  temperature  season  rolling_mean  rolling_std      mean  \\\n",
       "9   Beijing    10.440310  winter     -2.424945     5.568372  -2.31441   \n",
       "59  Beijing    14.621026  spring     -1.755015     5.752854  12.98483   \n",
       "62  Beijing    17.587433  spring     -0.528129     6.526667  12.98483   \n",
       "63  Beijing    17.714677  spring      0.166320     7.303624  12.98483   \n",
       "70  Beijing    28.256653  spring      3.431789     9.296064  12.98483   \n",
       "\n",
       "         std  is_anomaly  \n",
       "9   4.913169        True  \n",
       "59  4.910381        True  \n",
       "62  4.910381        True  \n",
       "63  4.910381        True  \n",
       "70  4.910381        True  "
      ],
      "text/html": [
       "<div>\n",
       "<style scoped>\n",
       "    .dataframe tbody tr th:only-of-type {\n",
       "        vertical-align: middle;\n",
       "    }\n",
       "\n",
       "    .dataframe tbody tr th {\n",
       "        vertical-align: top;\n",
       "    }\n",
       "\n",
       "    .dataframe thead th {\n",
       "        text-align: right;\n",
       "    }\n",
       "</style>\n",
       "<table border=\"1\" class=\"dataframe\">\n",
       "  <thead>\n",
       "    <tr style=\"text-align: right;\">\n",
       "      <th></th>\n",
       "      <th>city</th>\n",
       "      <th>temperature</th>\n",
       "      <th>season</th>\n",
       "      <th>rolling_mean</th>\n",
       "      <th>rolling_std</th>\n",
       "      <th>mean</th>\n",
       "      <th>std</th>\n",
       "      <th>is_anomaly</th>\n",
       "    </tr>\n",
       "  </thead>\n",
       "  <tbody>\n",
       "    <tr>\n",
       "      <th>9</th>\n",
       "      <td>Beijing</td>\n",
       "      <td>10.440310</td>\n",
       "      <td>winter</td>\n",
       "      <td>-2.424945</td>\n",
       "      <td>5.568372</td>\n",
       "      <td>-2.31441</td>\n",
       "      <td>4.913169</td>\n",
       "      <td>True</td>\n",
       "    </tr>\n",
       "    <tr>\n",
       "      <th>59</th>\n",
       "      <td>Beijing</td>\n",
       "      <td>14.621026</td>\n",
       "      <td>spring</td>\n",
       "      <td>-1.755015</td>\n",
       "      <td>5.752854</td>\n",
       "      <td>12.98483</td>\n",
       "      <td>4.910381</td>\n",
       "      <td>True</td>\n",
       "    </tr>\n",
       "    <tr>\n",
       "      <th>62</th>\n",
       "      <td>Beijing</td>\n",
       "      <td>17.587433</td>\n",
       "      <td>spring</td>\n",
       "      <td>-0.528129</td>\n",
       "      <td>6.526667</td>\n",
       "      <td>12.98483</td>\n",
       "      <td>4.910381</td>\n",
       "      <td>True</td>\n",
       "    </tr>\n",
       "    <tr>\n",
       "      <th>63</th>\n",
       "      <td>Beijing</td>\n",
       "      <td>17.714677</td>\n",
       "      <td>spring</td>\n",
       "      <td>0.166320</td>\n",
       "      <td>7.303624</td>\n",
       "      <td>12.98483</td>\n",
       "      <td>4.910381</td>\n",
       "      <td>True</td>\n",
       "    </tr>\n",
       "    <tr>\n",
       "      <th>70</th>\n",
       "      <td>Beijing</td>\n",
       "      <td>28.256653</td>\n",
       "      <td>spring</td>\n",
       "      <td>3.431789</td>\n",
       "      <td>9.296064</td>\n",
       "      <td>12.98483</td>\n",
       "      <td>4.910381</td>\n",
       "      <td>True</td>\n",
       "    </tr>\n",
       "  </tbody>\n",
       "</table>\n",
       "</div>"
      ]
     },
     "execution_count": 136,
     "metadata": {},
     "output_type": "execute_result"
    }
   ],
   "execution_count": 136
  },
  {
   "metadata": {},
   "cell_type": "markdown",
   "source": "Видно, что на в данном случае распалларерирование анализа не помогло. Связано это с достаточно мощной машиной, на котором запускался данный код блока. Таким образом, больше времени уходило на создание потоков и объектов Pool, чем на подсчет результата в методе analyze_city"
  },
  {
   "cell_type": "markdown",
   "metadata": {},
   "source": [
    "### 2.Мониторинг текущей температуры"
   ]
  },
  {
   "cell_type": "code",
   "metadata": {
    "ExecuteTime": {
     "end_time": "2024-12-24T11:57:30.256737Z",
     "start_time": "2024-12-24T11:57:30.253800Z"
    }
   },
   "source": [
    "import pandas as pd\n",
    "import requests\n",
    "import aiohttp"
   ],
   "outputs": [],
   "execution_count": 137
  },
  {
   "cell_type": "code",
   "metadata": {
    "ExecuteTime": {
     "end_time": "2024-12-24T11:57:32.635319Z",
     "start_time": "2024-12-24T11:57:32.632599Z"
    }
   },
   "source": "api_key = '7e5088025d0806335ab52095fa032651'",
   "outputs": [],
   "execution_count": 138
  },
  {
   "cell_type": "code",
   "metadata": {
    "ExecuteTime": {
     "end_time": "2024-12-24T11:57:33.979455Z",
     "start_time": "2024-12-24T11:57:33.977016Z"
    }
   },
   "source": [
    "# Синхронный вызво для получения текущей температуры через API OpenWeatherMap\n",
    "def get_current_temperature(city, api_key):\n",
    "    url = f\"http://api.openweathermap.org/data/2.5/weather?q={city}&appid={api_key}&units=metric\"\n",
    "    response = requests.get(url)\n",
    "    if response.status_code == 200:\n",
    "        data = response.json()\n",
    "        return data['main']['temp']\n",
    "    else:\n",
    "        print(f\"Error: {response.status_code}, {response.json()}.\")\n",
    "        return None"
   ],
   "outputs": [],
   "execution_count": 139
  },
  {
   "metadata": {
    "ExecuteTime": {
     "end_time": "2024-12-24T11:57:35.729408Z",
     "start_time": "2024-12-24T11:57:35.725106Z"
    }
   },
   "cell_type": "code",
   "source": [
    "# Acинхронный вызво для получения текущей температуры через API OpenWeatherMap\n",
    "async def get_current_temperature_async(city, api_key):\n",
    "    url = f\"http://api.openweathermap.org/data/2.5/weather?q={city}&appid={api_key}&units=metric\"\n",
    "    async with aiohttp.ClientSession() as session:\n",
    "        async with session.get(url) as response:\n",
    "            if response.status == 200:\n",
    "                data = await response.json()\n",
    "                return data['main']['temp']\n",
    "            else:\n",
    "                print(f\"Error: {response.status}, {await response.json()}.\")\n",
    "                return None"
   ],
   "outputs": [],
   "execution_count": 140
  },
  {
   "metadata": {
    "ExecuteTime": {
     "end_time": "2024-12-24T11:57:37.612518Z",
     "start_time": "2024-12-24T11:57:37.608551Z"
    }
   },
   "cell_type": "code",
   "source": [
    "# Функция для определения, нормальна ли текущая температура для сезона\n",
    "def is_temperature_normal(temperature, season_stat, city, season):\n",
    "    if city in season_stat.city.unique() and season in season_stat.season.unique():\n",
    "        mean = season_stat[(season_stat['city'] == city) & (season_stat['season'] == season)]['mean'].iloc[0]\n",
    "        std = season_stat[(season_stat['city'] == city) & (season_stat['season'] == season)]['std'].iloc[0]\n",
    "        lower_bound = mean - 2 * std\n",
    "        upper_bound = mean + 2 * std\n",
    "        return lower_bound <= temperature <= upper_bound\n",
    "    else:\n",
    "        print(f\"No historical data for {city} in {season}.\")\n",
    "        return None"
   ],
   "outputs": [],
   "execution_count": 141
  },
  {
   "metadata": {
    "ExecuteTime": {
     "end_time": "2024-12-24T11:57:39.560493Z",
     "start_time": "2024-12-24T11:57:39.557736Z"
    }
   },
   "cell_type": "code",
   "source": [
    "city = 'Dubai'\n",
    "season = 'winter'"
   ],
   "outputs": [],
   "execution_count": 142
  },
  {
   "metadata": {
    "ExecuteTime": {
     "end_time": "2024-12-24T11:57:41.289422Z",
     "start_time": "2024-12-24T11:57:41.148428Z"
    }
   },
   "cell_type": "code",
   "source": [
    "# Синхронный вызов и сравнение\n",
    "current_temp = get_current_temperature(city, api_key)\n",
    "if current_temp is not None:\n",
    "    is_normal = is_temperature_normal(current_temp, parallel_results, city, season)\n",
    "    print(f\"Current temperature in {city}: {current_temp}°C.\")\n",
    "    print(f\"Temperature normal for the season: {'Yes' if is_normal else 'No'}.\")"
   ],
   "outputs": [
    {
     "name": "stdout",
     "output_type": "stream",
     "text": [
      "Current temperature in Dubai: 25.96°C.\n",
      "Temperature normal for the season: Yes.\n"
     ]
    }
   ],
   "execution_count": 143
  },
  {
   "metadata": {
    "ExecuteTime": {
     "end_time": "2024-12-24T11:57:43.701778Z",
     "start_time": "2024-12-24T11:57:43.567049Z"
    }
   },
   "cell_type": "code",
   "source": [
    "# Асинхронный вызов и сравнение\n",
    "current_temp = await get_current_temperature_async(city, api_key)\n",
    "if current_temp is not None:\n",
    "    is_normal = is_temperature_normal(current_temp, parallel_results, city, season)\n",
    "    print(f\"Current temperature in {city}: {current_temp}°C.\")\n",
    "    print(f\"Temperature normal for the season: {'Yes' if is_normal else 'No'}.\")"
   ],
   "outputs": [
    {
     "name": "stdout",
     "output_type": "stream",
     "text": [
      "Current temperature in Dubai: 25.96°C.\n",
      "Temperature normal for the season: Yes.\n"
     ]
    }
   ],
   "execution_count": 144
  },
  {
   "metadata": {},
   "cell_type": "markdown",
   "source": "В данном случае, так как мы работаем с сетью, то необходимо делать данные операции асинхронно, чтобы долгий ответ и возможное ожидаение таймаута не блокировало основной поток и программа была более юзерфрендли."
  },
  {
   "metadata": {
    "ExecuteTime": {
     "end_time": "2024-12-24T11:57:47.235463Z",
     "start_time": "2024-12-24T11:57:45.186675Z"
    }
   },
   "cell_type": "code",
   "source": [
    "# Проверим для всех городов\n",
    "for city in parallel_results.city.unique():\n",
    "    current_temp = await get_current_temperature_async(city, api_key)\n",
    "    if current_temp is not None:\n",
    "        is_normal = is_temperature_normal(current_temp, parallel_results, city, season)\n",
    "        print(f\"Current temperature in {city}: {current_temp}°C.\")\n",
    "        print(f\"Temperature normal for the season: {'Yes' if is_normal else 'No'}.\")"
   ],
   "outputs": [
    {
     "name": "stdout",
     "output_type": "stream",
     "text": [
      "Current temperature in Beijing: -4.06°C.\n",
      "Temperature normal for the season: Yes.\n",
      "Current temperature in Berlin: 4.66°C.\n",
      "Temperature normal for the season: Yes.\n",
      "Current temperature in Cairo: 19.42°C.\n",
      "Temperature normal for the season: Yes.\n",
      "Current temperature in Dubai: 25.96°C.\n",
      "Temperature normal for the season: Yes.\n",
      "Current temperature in London: 10.65°C.\n",
      "Temperature normal for the season: Yes.\n",
      "Current temperature in Los Angeles: 12.12°C.\n",
      "Temperature normal for the season: Yes.\n",
      "Current temperature in Mexico City: 12.28°C.\n",
      "Temperature normal for the season: Yes.\n",
      "Current temperature in Moscow: 2.61°C.\n",
      "Temperature normal for the season: No.\n",
      "Current temperature in Mumbai: 25.99°C.\n",
      "Temperature normal for the season: Yes.\n",
      "Current temperature in New York: -0.9°C.\n",
      "Temperature normal for the season: Yes.\n",
      "Current temperature in Paris: 7.38°C.\n",
      "Temperature normal for the season: Yes.\n",
      "Current temperature in Rio de Janeiro: 25.48°C.\n",
      "Temperature normal for the season: Yes.\n",
      "Current temperature in Singapore: 25.68°C.\n",
      "Temperature normal for the season: Yes.\n",
      "Current temperature in Sydney: 19.33°C.\n",
      "Temperature normal for the season: Yes.\n",
      "Current temperature in Tokyo: 6.75°C.\n",
      "Temperature normal for the season: Yes.\n"
     ]
    }
   ],
   "execution_count": 145
  }
 ],
 "metadata": {
  "colab": {
   "provenance": []
  },
  "kernelspec": {
   "display_name": "Python 3 (ipykernel)",
   "name": "python3",
   "language": "python"
  },
  "language_info": {
   "codemirror_mode": {
    "name": "ipython",
    "version": 3
   },
   "file_extension": ".py",
   "mimetype": "text/x-python",
   "name": "python",
   "nbconvert_exporter": "python",
   "pygments_lexer": "ipython3",
   "version": "3.11.3"
  }
 },
 "nbformat": 4,
 "nbformat_minor": 0
}
